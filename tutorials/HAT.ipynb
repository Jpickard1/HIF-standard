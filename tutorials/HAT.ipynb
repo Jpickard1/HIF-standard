{
 "cells": [
  {
   "cell_type": "markdown",
   "metadata": {},
   "source": [
    "# Examples using HIF translators with HAT\n",
    "\n",
    "[HAT (Hypergraph Analysis Toolbox)](https://hypergraph-analysis-toolbox.readthedocs.io/en/latest/) is a python package for studying the structure and dynamics of hypergraphs. This notebook provides examples to make `HAT.Hypergraph`s compatible with other libraries based on the HIF standard.\n",
    "\n",
    "This notebook has three parts:\n",
    "1. Install and import the packages\n",
    "2. Load a HIF compatible JSON file\n",
    "3. Build the `HAT.Hypergraph`\n",
    "4. Demonstrate how to reproduce a HIF compatible hypergraph"
   ]
  },
  {
   "cell_type": "markdown",
   "metadata": {},
   "source": [
    "## Load HIF File"
   ]
  },
  {
   "cell_type": "code",
   "execution_count": 1,
   "metadata": {},
   "outputs": [],
   "source": [
    "import json\n",
    "import os\n",
    "\n",
    "import fastjsonschema\n",
    "from HAT import Hypergraph"
   ]
  },
  {
   "cell_type": "code",
   "execution_count": 2,
   "metadata": {},
   "outputs": [],
   "source": [
    "with open(os.path.join(\"data\", \"e-coli.json\"), \"r\") as file:\n",
    "    # Load the JSON data from the file\n",
    "    hif_data = json.load(file)"
   ]
  },
  {
   "cell_type": "markdown",
   "metadata": {},
   "source": [
    "## Convert to HAT\n",
    "\n",
    "The `HAT.Hypergraph.from_hif` method converts the data loaded from a HIF `JSON` file into a Hypergraph."
   ]
  },
  {
   "cell_type": "code",
   "execution_count": 3,
   "metadata": {},
   "outputs": [],
   "source": [
    "HG = Hypergraph.from_hif(hif_data)"
   ]
  },
  {
   "cell_type": "markdown",
   "metadata": {},
   "source": [
    "Metadata associated with each node can be viewed in the `nodes` and `edges` dataframes:"
   ]
  },
  {
   "cell_type": "code",
   "execution_count": 4,
   "metadata": {},
   "outputs": [
    {
     "data": {
      "text/html": [
       "<div>\n",
       "<style scoped>\n",
       "    .dataframe tbody tr th:only-of-type {\n",
       "        vertical-align: middle;\n",
       "    }\n",
       "\n",
       "    .dataframe tbody tr th {\n",
       "        vertical-align: top;\n",
       "    }\n",
       "\n",
       "    .dataframe thead th {\n",
       "        text-align: right;\n",
       "    }\n",
       "</style>\n",
       "<table border=\"1\" class=\"dataframe\">\n",
       "  <thead>\n",
       "    <tr style=\"text-align: right;\">\n",
       "      <th></th>\n",
       "      <th>Nodes</th>\n",
       "      <th>name</th>\n",
       "    </tr>\n",
       "  </thead>\n",
       "  <tbody>\n",
       "    <tr>\n",
       "      <th>0</th>\n",
       "      <td>3pg_c</td>\n",
       "      <td>3-Phospho-D-glycerate</td>\n",
       "    </tr>\n",
       "    <tr>\n",
       "      <th>1</th>\n",
       "      <td>succ_e</td>\n",
       "      <td>Succinate</td>\n",
       "    </tr>\n",
       "    <tr>\n",
       "      <th>2</th>\n",
       "      <td>etoh_e</td>\n",
       "      <td>Ethanol</td>\n",
       "    </tr>\n",
       "    <tr>\n",
       "      <th>3</th>\n",
       "      <td>13dpg_c</td>\n",
       "      <td>3-Phospho-D-glyceroyl phosphate</td>\n",
       "    </tr>\n",
       "    <tr>\n",
       "      <th>4</th>\n",
       "      <td>fdp_c</td>\n",
       "      <td>D-Fructose 1,6-bisphosphate</td>\n",
       "    </tr>\n",
       "    <tr>\n",
       "      <th>...</th>\n",
       "      <td>...</td>\n",
       "      <td>...</td>\n",
       "    </tr>\n",
       "    <tr>\n",
       "      <th>67</th>\n",
       "      <td>6pgl_c</td>\n",
       "      <td>6-phospho-D-glucono-1,5-lactone</td>\n",
       "    </tr>\n",
       "    <tr>\n",
       "      <th>68</th>\n",
       "      <td>acon_C_c</td>\n",
       "      <td>Cis-Aconitate</td>\n",
       "    </tr>\n",
       "    <tr>\n",
       "      <th>69</th>\n",
       "      <td>h_e</td>\n",
       "      <td>H+</td>\n",
       "    </tr>\n",
       "    <tr>\n",
       "      <th>70</th>\n",
       "      <td>o2_c</td>\n",
       "      <td>O2 O2</td>\n",
       "    </tr>\n",
       "    <tr>\n",
       "      <th>71</th>\n",
       "      <td>g3p_c</td>\n",
       "      <td>Glyceraldehyde 3-phosphate</td>\n",
       "    </tr>\n",
       "  </tbody>\n",
       "</table>\n",
       "<p>72 rows × 2 columns</p>\n",
       "</div>"
      ],
      "text/plain": [
       "       Nodes                             name\n",
       "0      3pg_c            3-Phospho-D-glycerate\n",
       "1     succ_e                        Succinate\n",
       "2     etoh_e                          Ethanol\n",
       "3    13dpg_c  3-Phospho-D-glyceroyl phosphate\n",
       "4      fdp_c      D-Fructose 1,6-bisphosphate\n",
       "..       ...                              ...\n",
       "67    6pgl_c  6-phospho-D-glucono-1,5-lactone\n",
       "68  acon_C_c                    Cis-Aconitate\n",
       "69       h_e                               H+\n",
       "70      o2_c                            O2 O2\n",
       "71     g3p_c       Glyceraldehyde 3-phosphate\n",
       "\n",
       "[72 rows x 2 columns]"
      ]
     },
     "execution_count": 4,
     "metadata": {},
     "output_type": "execute_result"
    }
   ],
   "source": [
    "HG.nodes"
   ]
  },
  {
   "cell_type": "code",
   "execution_count": 5,
   "metadata": {},
   "outputs": [
    {
     "data": {
      "text/html": [
       "<div>\n",
       "<style scoped>\n",
       "    .dataframe tbody tr th:only-of-type {\n",
       "        vertical-align: middle;\n",
       "    }\n",
       "\n",
       "    .dataframe tbody tr th {\n",
       "        vertical-align: top;\n",
       "    }\n",
       "\n",
       "    .dataframe thead th {\n",
       "        text-align: right;\n",
       "    }\n",
       "</style>\n",
       "<table border=\"1\" class=\"dataframe\">\n",
       "  <thead>\n",
       "    <tr style=\"text-align: right;\">\n",
       "      <th></th>\n",
       "      <th>edge</th>\n",
       "      <th>name</th>\n",
       "      <th>Nodes</th>\n",
       "      <th>Edges</th>\n",
       "    </tr>\n",
       "  </thead>\n",
       "  <tbody>\n",
       "    <tr>\n",
       "      <th>0</th>\n",
       "      <td>SUCOAS_reverse</td>\n",
       "      <td>Succinyl-CoA synthetase (ADP-forming)</td>\n",
       "      <td>[19, 51, 32, 40, 36, 12]</td>\n",
       "      <td>0</td>\n",
       "    </tr>\n",
       "    <tr>\n",
       "      <th>1</th>\n",
       "      <td>EX_h2o_e</td>\n",
       "      <td>H2O exchange</td>\n",
       "      <td>[55]</td>\n",
       "      <td>1</td>\n",
       "    </tr>\n",
       "    <tr>\n",
       "      <th>2</th>\n",
       "      <td>MALt2_2</td>\n",
       "      <td>Malate transport via proton symport (2 H)</td>\n",
       "      <td>[57, 69, 41, 43]</td>\n",
       "      <td>2</td>\n",
       "    </tr>\n",
       "    <tr>\n",
       "      <th>3</th>\n",
       "      <td>FUM</td>\n",
       "      <td>Fumarase</td>\n",
       "      <td>[38, 17, 41]</td>\n",
       "      <td>3</td>\n",
       "    </tr>\n",
       "    <tr>\n",
       "      <th>4</th>\n",
       "      <td>H2Ot</td>\n",
       "      <td>H2O transport via diffusion</td>\n",
       "      <td>[55, 38]</td>\n",
       "      <td>4</td>\n",
       "    </tr>\n",
       "    <tr>\n",
       "      <th>...</th>\n",
       "      <td>...</td>\n",
       "      <td>...</td>\n",
       "      <td>...</td>\n",
       "      <td>...</td>\n",
       "    </tr>\n",
       "    <tr>\n",
       "      <th>136</th>\n",
       "      <td>EX_mal__L_e</td>\n",
       "      <td>L-Malate exchange</td>\n",
       "      <td>[57]</td>\n",
       "      <td>136</td>\n",
       "    </tr>\n",
       "    <tr>\n",
       "      <th>137</th>\n",
       "      <td>PGK_reverse</td>\n",
       "      <td>Phosphoglycerate kinase</td>\n",
       "      <td>[19, 3, 0, 40]</td>\n",
       "      <td>137</td>\n",
       "    </tr>\n",
       "    <tr>\n",
       "      <th>138</th>\n",
       "      <td>PPC</td>\n",
       "      <td>Phosphoenolpyruvate carboxylase</td>\n",
       "      <td>[38, 64, 11, 9, 51, 43]</td>\n",
       "      <td>138</td>\n",
       "    </tr>\n",
       "    <tr>\n",
       "      <th>139</th>\n",
       "      <td>PTAr_reverse</td>\n",
       "      <td>Phosphotransacetylase</td>\n",
       "      <td>[36, 22, 23, 51]</td>\n",
       "      <td>139</td>\n",
       "    </tr>\n",
       "    <tr>\n",
       "      <th>140</th>\n",
       "      <td>PTAr</td>\n",
       "      <td>Phosphotransacetylase</td>\n",
       "      <td>[23, 51, 36, 22]</td>\n",
       "      <td>140</td>\n",
       "    </tr>\n",
       "  </tbody>\n",
       "</table>\n",
       "<p>141 rows × 4 columns</p>\n",
       "</div>"
      ],
      "text/plain": [
       "               edge                                       name  \\\n",
       "0    SUCOAS_reverse      Succinyl-CoA synthetase (ADP-forming)   \n",
       "1          EX_h2o_e                               H2O exchange   \n",
       "2           MALt2_2  Malate transport via proton symport (2 H)   \n",
       "3               FUM                                   Fumarase   \n",
       "4              H2Ot                H2O transport via diffusion   \n",
       "..              ...                                        ...   \n",
       "136     EX_mal__L_e                          L-Malate exchange   \n",
       "137     PGK_reverse                    Phosphoglycerate kinase   \n",
       "138             PPC            Phosphoenolpyruvate carboxylase   \n",
       "139    PTAr_reverse                      Phosphotransacetylase   \n",
       "140            PTAr                      Phosphotransacetylase   \n",
       "\n",
       "                        Nodes  Edges  \n",
       "0    [19, 51, 32, 40, 36, 12]      0  \n",
       "1                        [55]      1  \n",
       "2            [57, 69, 41, 43]      2  \n",
       "3                [38, 17, 41]      3  \n",
       "4                    [55, 38]      4  \n",
       "..                        ...    ...  \n",
       "136                      [57]    136  \n",
       "137            [19, 3, 0, 40]    137  \n",
       "138   [38, 64, 11, 9, 51, 43]    138  \n",
       "139          [36, 22, 23, 51]    139  \n",
       "140          [23, 51, 36, 22]    140  \n",
       "\n",
       "[141 rows x 4 columns]"
      ]
     },
     "execution_count": 5,
     "metadata": {},
     "output_type": "execute_result"
    }
   ],
   "source": [
    "HG.edges"
   ]
  },
  {
   "cell_type": "markdown",
   "metadata": {},
   "source": [
    "## Convert Back to HIF\n",
    "\n",
    "The `Hypergraph.to_hif` method converts the hypergraph object back to a python dictionary according to the HIF schema. This dictionary can be saved to a `JSON` file."
   ]
  },
  {
   "cell_type": "code",
   "execution_count": 6,
   "metadata": {},
   "outputs": [],
   "source": [
    "hif_output = HG.to_hif()"
   ]
  },
  {
   "cell_type": "code",
   "execution_count": 7,
   "metadata": {},
   "outputs": [],
   "source": [
    "schema = json.load(open(\"../schemas/hif_schema_v0.1.0.json\", \"r\"))\n",
    "validator = fastjsonschema.compile(schema)"
   ]
  },
  {
   "cell_type": "code",
   "execution_count": 8,
   "metadata": {},
   "outputs": [
    {
     "name": "stdout",
     "output_type": "stream",
     "text": [
      "metadata:  {'uniform': False, 'order': -1, 'directed': False} \n",
      "\n",
      "network-type:  undirected\n"
     ]
    }
   ],
   "source": [
    "## The validator confirms the json read conforms to the HIF standard\n",
    "output = validator(hif_output)\n",
    "\n",
    "print(\"metadata: \", output[\"metadata\"], \"\\n\")\n",
    "print(\"network-type: \", output[\"network-type\"])"
   ]
  }
 ],
 "metadata": {
  "kernelspec": {
   "display_name": "xgi",
   "language": "python",
   "name": "python3"
  },
  "language_info": {
   "codemirror_mode": {
    "name": "ipython",
    "version": 3
   },
   "file_extension": ".py",
   "mimetype": "text/x-python",
   "name": "python",
   "nbconvert_exporter": "python",
   "pygments_lexer": "ipython3",
   "version": "3.12.4"
  }
 },
 "nbformat": 4,
 "nbformat_minor": 2
}
